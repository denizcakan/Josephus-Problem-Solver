{
 "cells": [
  {
   "cell_type": "code",
   "execution_count": 1,
   "id": "c47ba56e-1032-4a73-9fe0-d1fcac045bf7",
   "metadata": {},
   "outputs": [],
   "source": [
    "# In the Josephus Problem, there are n people numbered from 0 to n − 1 around a circle and proceeding around \n",
    "# the circle every second person is executed until no one survives. Determining where to stand on the circle \n",
    "# to be the last survivor is called the Josephus Problem.\n",
    "\n",
    "def JosephusSolver(n):\n",
    "    # Create a list containing integers from 1 to n\n",
    "    original_list = range(1, n+1)\n",
    "    original_list = list(original_list)\n",
    "    x = len(original_list)\n",
    "\n",
    "    # Continue the process until only one element remains in the list\n",
    "    while x>1:\n",
    "        # If the length of the list is even\n",
    "        if x%2==0:\n",
    "            odd = range(1, x+1, 2)\n",
    "            odd = list(odd)\n",
    "            odd.reverse()\n",
    "            # Remove elements at odd indices from the original list\n",
    "            for a in odd:\n",
    "                original_list.remove(original_list[a])\n",
    "            # Update the length of the list\n",
    "            x = len(original_list)\n",
    "        else:\n",
    "            # Create a list of odd indices in reverse order\n",
    "            odd = range(1, x, 2)\n",
    "            odd = list(odd)\n",
    "            odd.reverse()\n",
    "            # Remove elements at odd indices from the original list\n",
    "            for a in odd:\n",
    "                original_list.remove(original_list[a])\n",
    "            # Update the length of the list\n",
    "            x = len(original_list)\n",
    "            # Move the last element to the beginning of the list\n",
    "            original_list = [original_list[x-1]] + original_list[0:x-1]\n",
    "\n",
    "    # Print the remaining element in the list (the survivor)\n",
    "    print(\"The survivor in the Josephus problem with\", n, \"people is:\", original_list[0])"
   ]
  },
  {
   "cell_type": "code",
   "execution_count": 2,
   "id": "278be61c-3694-4cba-9faf-5e97b214b604",
   "metadata": {},
   "outputs": [
    {
     "name": "stdout",
     "output_type": "stream",
     "text": [
      "The survivor in the Josephus problem with 4 people is: 1\n",
      "The survivor in the Josephus problem with 8 people is: 1\n",
      "The survivor in the Josephus problem with 9 people is: 3\n",
      "The survivor in the Josephus problem with 16 people is: 1\n",
      "The survivor in the Josephus problem with 17 people is: 3\n",
      "The survivor in the Josephus problem with 39 people is: 15\n",
      "The survivor in the Josephus problem with 198 people is: 141\n"
     ]
    }
   ],
   "source": [
    "# Test the function\n",
    "for i in [4, 8, 9, 16, 17, 39, 198]:\n",
    "    JosephusSolver(i)"
   ]
  },
  {
   "cell_type": "code",
   "execution_count": 3,
   "id": "23987805-a610-4dab-ac28-8788a326395f",
   "metadata": {},
   "outputs": [
    {
     "name": "stdout",
     "output_type": "stream",
     "text": [
      "The survivor in the Josephus problem with 1024 people is: 1\n",
      "Execution time: 0.007944822311401367 seconds\n"
     ]
    }
   ],
   "source": [
    "import time\n",
    "\n",
    "start_time = time.time()\n",
    "JosephusSolver(2**10)\n",
    "end_time = time.time()\n",
    "print(\"Execution time:\", end_time - start_time, \"seconds\")"
   ]
  },
  {
   "cell_type": "code",
   "execution_count": 4,
   "id": "dd4cde4b-e49e-4174-b863-ceb7cf416c05",
   "metadata": {},
   "outputs": [
    {
     "name": "stdout",
     "output_type": "stream",
     "text": [
      "The survivor in the Josephus problem with 65536 people is: 1\n",
      "Execution time: 34.28803896903992 seconds\n"
     ]
    }
   ],
   "source": [
    "import time\n",
    "\n",
    "start_time = time.time()\n",
    "JosephusSolver(2**16)\n",
    "end_time = time.time()\n",
    "print(\"Execution time:\", end_time - start_time, \"seconds\")"
   ]
  },
  {
   "cell_type": "code",
   "execution_count": 5,
   "id": "2e04ff19-1d57-4cdb-ab8a-48b4909a1bda",
   "metadata": {},
   "outputs": [
    {
     "name": "stdout",
     "output_type": "stream",
     "text": [
      "The survivor in the Josephus problem with 50 people is: 37\n",
      "The survivor in the Josephus problem with 1000 people is: 977\n",
      "The survivor in the Josephus problem with 5000 people is: 1809\n",
      "The survivor in the Josephus problem with 10000 people is: 3617\n",
      "The survivor in the Josephus problem with 15000 people is: 13617\n",
      "The survivor in the Josephus problem with 20000 people is: 7233\n",
      "The survivor in the Josephus problem with 25000 people is: 17233\n",
      "The survivor in the Josephus problem with 30000 people is: 27233\n",
      "The survivor in the Josephus problem with 40000 people is: 14465\n",
      "The survivor in the Josephus problem with 50000 people is: 34465\n",
      "The survivor in the Josephus problem with 60000 people is: 54465\n"
     ]
    }
   ],
   "source": [
    "x = []\n",
    "y = []\n",
    "for n in [50, 1000, 5000, 10000, 15000, 20000, 25000, 30000, 40000, 50000, 60000]:\n",
    "    import time\n",
    "    x.append(n)\n",
    "    start_time = time.time()\n",
    "    JosephusSolver(n)\n",
    "    end_time = time.time()\n",
    "    execute_time = end_time - start_time\n",
    "    y.append(execute_time)\n",
    "    "
   ]
  },
  {
   "cell_type": "code",
   "execution_count": 6,
   "id": "87a8b2d1-7cab-42cd-bce3-c5a824dd4ab0",
   "metadata": {},
   "outputs": [
    {
     "data": {
      "image/png": "[encoded data removed]",
      "text/plain": [
       "<Figure size 640x480 with 1 Axes>"
      ]
     },
     "metadata": {},
     "output_type": "display_data"
    }
   ],
   "source": [
    "import matplotlib.pyplot as plt\n",
    "\n",
    "# As the number of inputs increases, the running time of the algorithm\n",
    "# increases very rapidly. The visualized version is as follows.\n",
    "# Improvements can be made to the algorithm for higher inputs.\n",
    "\n",
    "plt.scatter(x, y)\n",
    "plt.xlabel('Input')\n",
    "plt.ylabel('Time')\n",
    "plt.title('Passing time for different inputs')\n",
    "plt.show()"
   ]
  },
  {
   "cell_type": "code",
   "execution_count": null,
   "id": "a398fef2-9773-4fb0-acf4-cd3a174199d5",
   "metadata": {},
   "outputs": [],
   "source": []
  }
 ],
 "metadata": {
  "kernelspec": {
   "display_name": "Python 3 (ipykernel)",
   "language": "python",
   "name": "python3"
  },
  "language_info": {
   "codemirror_mode": {
    "name": "ipython",
    "version": 3
   },
   "file_extension": ".py",
   "mimetype": "text/x-python",
   "name": "python",
   "nbconvert_exporter": "python",
   "pygments_lexer": "ipython3",
   "version": "3.9.7"
  }
 },
 "nbformat": 4,
 "nbformat_minor": 5
}
